{
 "cells": [
  {
   "cell_type": "markdown",
   "metadata": {},
   "source": [
    "# Regression using Decision Trees\n",
    "\n",
    "In this notebook, we will use decision trees to solve regression problems. \n",
    "\n",
    "The dataset used here originates from a project to build a surrogate model for predicting the band gap of a material from its composition. This surrogate model was used to replace expensive quantum mecahnical calculations in virtual high-throughput screening of materials for application as photocatalysts. The paper was published in [Chemistry of Materials](https://pubs.acs.org/doi/abs/10.1021/acs.chemmater.9b01519). \n",
    "\n",
    "Through this practice, we can learn not only the usage of regression trees but, more importantly, how to tune hyperparameters for best performance."
   ]
  },
  {
   "cell_type": "code",
   "execution_count": 1,
   "metadata": {
    "tags": []
   },
   "outputs": [],
   "source": [
    "# sklearn\n",
    "from sklearn import metrics\n",
    "from sklearn.linear_model import LinearRegression\n",
    "from sklearn.model_selection import train_test_split, cross_val_score, GridSearchCV\n",
    "from sklearn.ensemble import GradientBoostingRegressor\n",
    "import sklearn.datasets\n",
    "\n",
    "# helpers\n",
    "import pandas as pd\n",
    "import numpy as np\n",
    "import matplotlib.pyplot as plt\n",
    "plt.style.use('ggplot')"
   ]
  },
  {
   "cell_type": "markdown",
   "metadata": {},
   "source": [
    "### Helper Functions\n",
    "\n",
    "These are a few helper functions for generating data, plotting etc. You do not necessarily need to understand all the contents of these functions."
   ]
  },
  {
   "cell_type": "code",
   "execution_count": 2,
   "metadata": {
    "tags": []
   },
   "outputs": [],
   "source": [
    "def plot_predicted_vs_true(y, y_pred):\n",
    "    plt.figure(dpi=100)\n",
    "    plt.scatter(y, y_pred)\n",
    "    plt.xlabel('Eg True (eV)')\n",
    "    plt.ylabel('Eg Predicted (eV)')\n",
    "    plt.show()\n",
    "    \n",
    "def plot_loss_scores(train_score, test_score):\n",
    "    plt.figure(dpi=100)\n",
    "    plt.plot(train_score, label='Loss on training set')\n",
    "    plt.plot(test_score, label='Loss on test set')\n",
    "    plt.legend()\n",
    "    plt.show()"
   ]
  },
  {
   "cell_type": "markdown",
   "metadata": {},
   "source": [
    "## Google Cloud Storage Boilerplate\n",
    "\n",
    "The following two cells have some boilerplate to mount the Google Cloud Storage bucket containing the data used for this notebook to your Google Colab file system. **Even if you are not using Google Colab, please make sure you run these two cells.** \n",
    "\n",
    "To access the data from Google Colab, you need to:\n",
    "\n",
    "1. Run the first cell;\n",
    "2. Follow the link when prompted (you may be asked to log in with your Google account);\n",
    "3. Copy the Google SDK token back into the prompt and press `Enter`;\n",
    "4. Run the second cell and wait until the data folder appears.\n",
    "\n",
    "If everything works correctly, a new folder called `sciml-workshop-data` should appear in the file browser on the left. Depending on the network speed, this may take one or two minutes. Ignore the warning \"You do not appear to have access to project ...\". If you are running the notebook locally or you have already connected to the bucket, these cells will have no side effects."
   ]
  },
  {
   "cell_type": "code",
   "execution_count": 3,
   "metadata": {
    "tags": []
   },
   "outputs": [],
   "source": [
    "# variables passed to bash; do not change\n",
    "project_id = 'sciml-workshop'\n",
    "bucket_name = 'sciml-workshop-data'\n",
    "colab_data_path = '/content/sciml-workshop-data/'\n",
    "\n",
    "try:\n",
    "    from google.colab import auth\n",
    "    auth.authenticate_user()\n",
    "    google_colab_env = 'true'\n",
    "    data_path = colab_data_path + 'sciml-workshop/'\n",
    "except:\n",
    "    google_colab_env = 'false'\n",
    "    ###################################################\n",
    "    ######## specify your local data path here ########\n",
    "    ###################################################\n",
    "    with open('../local_data_path.txt', 'r') as f: \n",
    "        data_path = f.read().splitlines()[0]\n",
    "\n",
    "    # Maybe file doesn't exist, so we talk directly to the bucket\n",
    "    import os\n",
    "    if not os.path.isdir(data_path):\n",
    "        data_path = f\"https://s3.echo.stfc.ac.uk/{bucket_name}/{project_id}/\""
   ]
  },
  {
   "cell_type": "code",
   "execution_count": 4,
   "metadata": {},
   "outputs": [
    {
     "name": "stdout",
     "output_type": "stream",
     "text": [
      "classification_decision_tree.ipynb\n",
      "clustering_kmeans_GMM.ipynb\n",
      "regression_decision_tree.ipynb\n"
     ]
    }
   ],
   "source": [
    "%%bash\n",
    "\n",
    "for i in * ; do\n",
    "    echo \"$i\"\n",
    "done"
   ]
  },
  {
   "cell_type": "code",
   "execution_count": 5,
   "metadata": {
    "tags": []
   },
   "outputs": [
    {
     "name": "stdout",
     "output_type": "stream",
     "text": [
      "Running notebook locally.\n"
     ]
    }
   ],
   "source": [
    "%%bash -s {google_colab_env} {colab_data_path} {bucket_name} \n",
    "\n",
    "# running locally\n",
    "if ! $1; then\n",
    "    echo \"Running notebook locally.\"\n",
    "    exit\n",
    "fi\n",
    "\n",
    "# already mounted\n",
    "if [ -d $2 ]; then\n",
    "    echo \"Data already mounted.\"\n",
    "    exit\n",
    "fi\n",
    "\n",
    "apt -qq update\n",
    "apt -qq install s3fs fuse\n",
    "mkdir -p $2\n",
    "s3fs $3 $2 -o allow_other,use_path_request_style,no_check_certificate,public_bucket=1,ssl_verify_hostname=0,host=https://s3.echo.stfc.ac.uk,url=https://s3.echo.stfc.ac.uk"
   ]
  },
  {
   "cell_type": "markdown",
   "metadata": {},
   "source": [
    "---"
   ]
  },
  {
   "cell_type": "markdown",
   "metadata": {},
   "source": [
    "# The Dataset\n",
    "\n",
    "Our data are stored in the pickle file `oxides/training_data.pickle`. We load this file into a `pandas.DataFrame` object, an efficient interface to manage column-wise, heterogeneous tabular data. "
   ]
  },
  {
   "cell_type": "code",
   "execution_count": 6,
   "metadata": {
    "tags": []
   },
   "outputs": [],
   "source": [
    "oxides = pd.read_pickle(data_path  + 'dt-data/training_data.pickle')"
   ]
  },
  {
   "cell_type": "markdown",
   "metadata": {},
   "source": [
    "We can check all the columns presented in the dataframe:"
   ]
  },
  {
   "cell_type": "code",
   "execution_count": 7,
   "metadata": {
    "tags": []
   },
   "outputs": [
    {
     "data": {
      "text/plain": [
       "['gllbsc_gap',\n",
       " '0-norm',\n",
       " '2-norm',\n",
       " '3-norm',\n",
       " '5-norm',\n",
       " '7-norm',\n",
       " '10-norm',\n",
       " 'MagpieData minimum Number',\n",
       " 'MagpieData maximum Number',\n",
       " 'MagpieData range Number',\n",
       " 'MagpieData mean Number',\n",
       " 'MagpieData avg_dev Number',\n",
       " 'MagpieData mode Number',\n",
       " 'MagpieData minimum MendeleevNumber',\n",
       " 'MagpieData maximum MendeleevNumber',\n",
       " 'MagpieData range MendeleevNumber',\n",
       " 'MagpieData mean MendeleevNumber',\n",
       " 'MagpieData avg_dev MendeleevNumber',\n",
       " 'MagpieData mode MendeleevNumber',\n",
       " 'MagpieData minimum AtomicWeight',\n",
       " 'MagpieData maximum AtomicWeight',\n",
       " 'MagpieData range AtomicWeight',\n",
       " 'MagpieData mean AtomicWeight',\n",
       " 'MagpieData avg_dev AtomicWeight',\n",
       " 'MagpieData mode AtomicWeight',\n",
       " 'MagpieData minimum MeltingT',\n",
       " 'MagpieData maximum MeltingT',\n",
       " 'MagpieData range MeltingT',\n",
       " 'MagpieData mean MeltingT',\n",
       " 'MagpieData avg_dev MeltingT',\n",
       " 'MagpieData mode MeltingT',\n",
       " 'MagpieData minimum Column',\n",
       " 'MagpieData maximum Column',\n",
       " 'MagpieData range Column',\n",
       " 'MagpieData mean Column',\n",
       " 'MagpieData avg_dev Column',\n",
       " 'MagpieData mode Column',\n",
       " 'MagpieData minimum Row',\n",
       " 'MagpieData maximum Row',\n",
       " 'MagpieData range Row',\n",
       " 'MagpieData mean Row',\n",
       " 'MagpieData avg_dev Row',\n",
       " 'MagpieData mode Row',\n",
       " 'MagpieData minimum CovalentRadius',\n",
       " 'MagpieData maximum CovalentRadius',\n",
       " 'MagpieData range CovalentRadius',\n",
       " 'MagpieData mean CovalentRadius',\n",
       " 'MagpieData avg_dev CovalentRadius',\n",
       " 'MagpieData mode CovalentRadius',\n",
       " 'MagpieData minimum Electronegativity',\n",
       " 'MagpieData maximum Electronegativity',\n",
       " 'MagpieData range Electronegativity',\n",
       " 'MagpieData mean Electronegativity',\n",
       " 'MagpieData avg_dev Electronegativity',\n",
       " 'MagpieData mode Electronegativity',\n",
       " 'MagpieData minimum NsValence',\n",
       " 'MagpieData maximum NsValence',\n",
       " 'MagpieData range NsValence',\n",
       " 'MagpieData mean NsValence',\n",
       " 'MagpieData avg_dev NsValence',\n",
       " 'MagpieData mode NsValence',\n",
       " 'MagpieData minimum NpValence',\n",
       " 'MagpieData maximum NpValence',\n",
       " 'MagpieData range NpValence',\n",
       " 'MagpieData mean NpValence',\n",
       " 'MagpieData avg_dev NpValence',\n",
       " 'MagpieData mode NpValence',\n",
       " 'MagpieData minimum NdValence',\n",
       " 'MagpieData maximum NdValence',\n",
       " 'MagpieData range NdValence',\n",
       " 'MagpieData mean NdValence',\n",
       " 'MagpieData avg_dev NdValence',\n",
       " 'MagpieData mode NdValence',\n",
       " 'MagpieData minimum NfValence',\n",
       " 'MagpieData maximum NfValence',\n",
       " 'MagpieData range NfValence',\n",
       " 'MagpieData mean NfValence',\n",
       " 'MagpieData avg_dev NfValence',\n",
       " 'MagpieData mode NfValence',\n",
       " 'MagpieData minimum NValence',\n",
       " 'MagpieData maximum NValence',\n",
       " 'MagpieData range NValence',\n",
       " 'MagpieData mean NValence',\n",
       " 'MagpieData avg_dev NValence',\n",
       " 'MagpieData mode NValence',\n",
       " 'MagpieData minimum NsUnfilled',\n",
       " 'MagpieData maximum NsUnfilled',\n",
       " 'MagpieData range NsUnfilled',\n",
       " 'MagpieData mean NsUnfilled',\n",
       " 'MagpieData avg_dev NsUnfilled',\n",
       " 'MagpieData mode NsUnfilled',\n",
       " 'MagpieData minimum NpUnfilled',\n",
       " 'MagpieData maximum NpUnfilled',\n",
       " 'MagpieData range NpUnfilled',\n",
       " 'MagpieData mean NpUnfilled',\n",
       " 'MagpieData avg_dev NpUnfilled',\n",
       " 'MagpieData mode NpUnfilled',\n",
       " 'MagpieData minimum NdUnfilled',\n",
       " 'MagpieData maximum NdUnfilled',\n",
       " 'MagpieData range NdUnfilled',\n",
       " 'MagpieData mean NdUnfilled',\n",
       " 'MagpieData avg_dev NdUnfilled',\n",
       " 'MagpieData mode NdUnfilled',\n",
       " 'MagpieData minimum NfUnfilled',\n",
       " 'MagpieData maximum NfUnfilled',\n",
       " 'MagpieData range NfUnfilled',\n",
       " 'MagpieData mean NfUnfilled',\n",
       " 'MagpieData avg_dev NfUnfilled',\n",
       " 'MagpieData mode NfUnfilled',\n",
       " 'MagpieData minimum NUnfilled',\n",
       " 'MagpieData maximum NUnfilled',\n",
       " 'MagpieData range NUnfilled',\n",
       " 'MagpieData mean NUnfilled',\n",
       " 'MagpieData avg_dev NUnfilled',\n",
       " 'MagpieData mode NUnfilled',\n",
       " 'MagpieData minimum GSvolume_pa',\n",
       " 'MagpieData maximum GSvolume_pa',\n",
       " 'MagpieData range GSvolume_pa',\n",
       " 'MagpieData mean GSvolume_pa',\n",
       " 'MagpieData avg_dev GSvolume_pa',\n",
       " 'MagpieData mode GSvolume_pa',\n",
       " 'MagpieData minimum GSbandgap',\n",
       " 'MagpieData maximum GSbandgap',\n",
       " 'MagpieData range GSbandgap',\n",
       " 'MagpieData mean GSbandgap',\n",
       " 'MagpieData avg_dev GSbandgap',\n",
       " 'MagpieData mode GSbandgap',\n",
       " 'MagpieData minimum GSmagmom',\n",
       " 'MagpieData maximum GSmagmom',\n",
       " 'MagpieData range GSmagmom',\n",
       " 'MagpieData mean GSmagmom',\n",
       " 'MagpieData avg_dev GSmagmom',\n",
       " 'MagpieData mode GSmagmom',\n",
       " 'MagpieData minimum SpaceGroupNumber',\n",
       " 'MagpieData maximum SpaceGroupNumber',\n",
       " 'MagpieData range SpaceGroupNumber',\n",
       " 'MagpieData mean SpaceGroupNumber',\n",
       " 'MagpieData avg_dev SpaceGroupNumber',\n",
       " 'MagpieData mode SpaceGroupNumber',\n",
       " 'avg p valence electrons',\n",
       " 'avg d valence electrons',\n",
       " 'avg f valence electrons',\n",
       " 'compound possible',\n",
       " 'max ionic char',\n",
       " 'avg ionic char',\n",
       " 'band center',\n",
       " 'HOMO_energy',\n",
       " 'LUMO_energy',\n",
       " 'gap_AO']"
      ]
     },
     "execution_count": 7,
     "metadata": {},
     "output_type": "execute_result"
    }
   ],
   "source": [
    "list(oxides.columns)"
   ]
  },
  {
   "cell_type": "markdown",
   "metadata": {},
   "source": [
    "To read data from one of the columns, use the `values` attribute, for example:"
   ]
  },
  {
   "cell_type": "markdown",
   "metadata": {},
   "source": [
    "### Description of the dataset\n",
    "\n",
    "In this practical we are attempting to learn a model that can predict the band gap (energy separation between occupied and un-occupied orbitals) of a material. So we need to set this value as the property to be predicted $y$ This data is stored in the dataframe column called `gllbsc_gap` and we set this to be y by running the cell below:"
   ]
  },
  {
   "cell_type": "code",
   "execution_count": 8,
   "metadata": {
    "tags": []
   },
   "outputs": [
    {
     "data": {
      "text/plain": [
       "((749,),\n",
       " array([3.17813432, 6.06433363, 5.14326273, 3.83328776, 3.88107685,\n",
       "        4.23331413, 3.45731067, 8.12575364, 6.00311096, 1.47166241,\n",
       "        3.60425102, 5.56118956, 9.2900309 , 7.17326004, 1.05190008,\n",
       "        4.57959943, 6.29199881, 8.59369117, 5.44958317, 6.73953187,\n",
       "        1.64599917, 2.44005584, 6.31725069, 4.77697928, 2.16822752,\n",
       "        6.13328655, 3.25994548, 7.6676351 , 5.71025509, 8.12314062]))"
      ]
     },
     "execution_count": 8,
     "metadata": {},
     "output_type": "execute_result"
    }
   ],
   "source": [
    "# read a single column\n",
    "y = oxides['gllbsc_gap'].values\n",
    "y.shape, y[:30]"
   ]
  },
  {
   "cell_type": "markdown",
   "metadata": {},
   "source": [
    "Or find out more about the `Series` in the `DataFrame` with:"
   ]
  },
  {
   "cell_type": "markdown",
   "metadata": {},
   "source": [
    "oxides[\"gllbsc_gap\"].describe()"
   ]
  },
  {
   "cell_type": "markdown",
   "metadata": {},
   "source": [
    "We can then use the other properties in the dataset, or a combination of them as *features* ($X$) for our model. For example we could set X to be defined by two features by running the cell below:"
   ]
  },
  {
   "cell_type": "code",
   "execution_count": 12,
   "metadata": {
    "tags": []
   },
   "outputs": [
    {
     "name": "stdout",
     "output_type": "stream",
     "text": [
      "(749, 2)\n"
     ]
    }
   ],
   "source": [
    "# read multiple columns and combine them to a matrix\n",
    "X = oxides[['MagpieData minimum Number', 'MagpieData maximum Number']].values\n",
    "print(X.shape)"
   ]
  },
  {
   "cell_type": "markdown",
   "metadata": {},
   "source": [
    "Let's do that a little slower"
   ]
  },
  {
   "cell_type": "code",
   "execution_count": 14,
   "metadata": {},
   "outputs": [
    {
     "data": {
      "text/html": [
       "<div>\n",
       "<style scoped>\n",
       "    .dataframe tbody tr th:only-of-type {\n",
       "        vertical-align: middle;\n",
       "    }\n",
       "\n",
       "    .dataframe tbody tr th {\n",
       "        vertical-align: top;\n",
       "    }\n",
       "\n",
       "    .dataframe thead th {\n",
       "        text-align: right;\n",
       "    }\n",
       "</style>\n",
       "<table border=\"1\" class=\"dataframe\">\n",
       "  <thead>\n",
       "    <tr style=\"text-align: right;\">\n",
       "      <th></th>\n",
       "      <th>MagpieData minimum Number</th>\n",
       "      <th>MagpieData maximum Number</th>\n",
       "    </tr>\n",
       "  </thead>\n",
       "  <tbody>\n",
       "    <tr>\n",
       "      <th>14</th>\n",
       "      <td>8.0</td>\n",
       "      <td>46.0</td>\n",
       "    </tr>\n",
       "    <tr>\n",
       "      <th>16</th>\n",
       "      <td>8.0</td>\n",
       "      <td>75.0</td>\n",
       "    </tr>\n",
       "    <tr>\n",
       "      <th>22</th>\n",
       "      <td>8.0</td>\n",
       "      <td>73.0</td>\n",
       "    </tr>\n",
       "    <tr>\n",
       "      <th>23</th>\n",
       "      <td>8.0</td>\n",
       "      <td>78.0</td>\n",
       "    </tr>\n",
       "    <tr>\n",
       "      <th>28</th>\n",
       "      <td>8.0</td>\n",
       "      <td>51.0</td>\n",
       "    </tr>\n",
       "  </tbody>\n",
       "</table>\n",
       "</div>"
      ],
      "text/plain": [
       "    MagpieData minimum Number  MagpieData maximum Number\n",
       "14                        8.0                       46.0\n",
       "16                        8.0                       75.0\n",
       "22                        8.0                       73.0\n",
       "23                        8.0                       78.0\n",
       "28                        8.0                       51.0"
      ]
     },
     "execution_count": 14,
     "metadata": {},
     "output_type": "execute_result"
    }
   ],
   "source": [
    "# Create a pandas DataFrame with only two columns:\n",
    "oxides_2_cols = oxides[['MagpieData minimum Number', 'MagpieData maximum Number']]\n",
    "oxides_2_cols.head()"
   ]
  },
  {
   "cell_type": "code",
   "execution_count": 16,
   "metadata": {},
   "outputs": [
    {
     "name": "stdout",
     "output_type": "stream",
     "text": [
      "(749, 2) \n",
      " [[ 8. 46.]\n",
      " [ 8. 75.]]\n"
     ]
    }
   ],
   "source": [
    "# Convert it into a 2D Numpy array (like a matrix)\n",
    "X = oxides_2_cols.values\n",
    "print(X.shape, \"\\n\", X[:2, :2])"
   ]
  },
  {
   "cell_type": "markdown",
   "metadata": {},
   "source": [
    "## Regression with the dataset\n",
    "\n",
    "In regression, we attempt to fit a model, $y = f(x)$, where $x$ and $y$ are multi-dimensional data of rank $M$ and $N$, respectively, and $f: \\mathbb{R}^M\\rightarrow\\mathbb{R}^N$ our regression model. In this notebook, $y$ will always be `gllbsc_gap` (so $N=1$), which represents the band gap, and $x$ a combination of the descriptors (all the other columns), each giving the measurement of a certain physical property. "
   ]
  },
  {
   "cell_type": "markdown",
   "metadata": {},
   "source": [
    "---"
   ]
  },
  {
   "cell_type": "markdown",
   "metadata": {},
   "source": [
    "# Linear regression: a starter\n",
    "\n",
    "Linear regression is the simplest regression algorithm in machine learning. Many people do not even regard it as a machine learning algorithm because it is explicitly programmed. Still, it serves as a good start to learn some basic concepts.\n",
    "\n",
    "\n",
    "## Univariate regression\n",
    "\n",
    "In univariate linear regression we have the equation:\n",
    "$y = mx + c$\n",
    "and we are attempting to find the best values for $m$ and $c$\n",
    "\n",
    "In a univariate regression, the input rank $M=1$. For instance, let us try `MagpieData avg_dev Electronegativity` as $x$:"
   ]
  },
  {
   "cell_type": "code",
   "execution_count": 17,
   "metadata": {
    "tags": []
   },
   "outputs": [],
   "source": [
    "# read X\n",
    "X = oxides['MagpieData avg_dev Electronegativity'].values\n",
    "\n",
    "# we need to append a dummy dimension to X for univariate regression\n",
    "# to keep the input dimensions consistent with multivariate regression\n",
    "X = X.reshape(-1, 1)\n",
    "# read y\n",
    "y = oxides['gllbsc_gap'].values"
   ]
  },
  {
   "cell_type": "markdown",
   "metadata": {},
   "source": [
    "Now we can use linear regression to fit the data and make predictions:"
   ]
  },
  {
   "cell_type": "code",
   "execution_count": 18,
   "metadata": {
    "tags": []
   },
   "outputs": [],
   "source": [
    "# fit linear regression model\n",
    "model = LinearRegression().fit(X, y)\n",
    "# make predictions\n",
    "y_pred = model.predict(X)"
   ]
  },
  {
   "cell_type": "markdown",
   "metadata": {},
   "source": [
    "When we have fitted the model we now want to use some *metrics* to *evaluate* the model performance. Remember the mean squared error and mean absolute error from your lectures. We will now calculate them for the model:"
   ]
  },
  {
   "cell_type": "code",
   "execution_count": 19,
   "metadata": {
    "tags": []
   },
   "outputs": [
    {
     "name": "stdout",
     "output_type": "stream",
     "text": [
      "MSE = 5.157564 eV\n",
      "MAE = 1.833979 eV\n"
     ]
    }
   ],
   "source": [
    "# compute some fitting error\n",
    "print('MSE = %f eV' % metrics.mean_squared_error(y, y_pred))\n",
    "print('MAE = %f eV' % metrics.mean_absolute_error(y, y_pred))"
   ]
  },
  {
   "cell_type": "markdown",
   "metadata": {},
   "source": [
    "We can also plot the predicted versus the real values to get a visual feel for how well the fitting worked."
   ]
  },
  {
   "cell_type": "code",
   "execution_count": 20,
   "metadata": {
    "tags": []
   },
   "outputs": [
    {
     "data": {
      "image/png": "[encoded data removed]",
      "text/plain": [
       "<Figure size 640x480 with 1 Axes>"
      ]
     },
     "metadata": {},
     "output_type": "display_data"
    }
   ],
   "source": [
    "plot_predicted_vs_true(y, y_pred)"
   ]
  },
  {
   "cell_type": "markdown",
   "metadata": {},
   "source": [
    "## Exercise \n",
    "\n",
    "By changing the feature in the $X$ values above try a number of different features. How does it affect the quality of fitting? Report the feature and the MAE and MSE scores in the table below. *Note* to edit the contents of this cell, simply double click on the cell.\n",
    "\n",
    "| Feature | MAE (eV) | MSE (eV) |\n",
    "|---------|----------|----------|\n",
    "|         |          |          |\n",
    "|         |          |          |\n",
    "|         |          |          |\n",
    "|         |          |          |"
   ]
  },
  {
   "cell_type": "code",
   "execution_count": 25,
   "metadata": {},
   "outputs": [],
   "source": [
    "# # read X\n",
    "# X = oxides['MagpieData avg_dev Electronegativity'].values\n",
    "\n",
    "# # we need to append a dummy dimension to X for univariate regression\n",
    "# # to keep the input dimensions consistent with multivariate regression\n",
    "# X = X.reshape(-1, 1)\n",
    "# # read y\n",
    "# y = oxides['gllbsc_gap'].values\n",
    "\n",
    "# # fit linear regression model\n",
    "# model = LinearRegression().fit(X, y)\n",
    "# # make predictions\n",
    "# y_pred = model.predict(X)\n",
    "\n",
    "# # compute some fitting error\n",
    "# print('MSE = %f eV' % metrics.mean_squared_error(y, y_pred))\n",
    "# print('MAE = %f eV' % metrics.mean_absolute_error(y, y_pred))\n",
    "\n",
    "def test_all_columns(oxides, target=\"gllbsc_gap\"):\n",
    "    results = {}\n",
    "    y = oxides[target].values\n",
    "\n",
    "    for col in oxides.columns:\n",
    "        if col == target: continue\n",
    "\n",
    "        X = oxides[col].values.reshape(-1, 1)\n",
    "        model = LinearRegression().fit(X, y)\n",
    "\n",
    "        y_pred = model.predict(X)\n",
    "\n",
    "        mse = metrics.mean_squared_error(y, y_pred)\n",
    "        mae = metrics.mean_absolute_error(y, y_pred)\n",
    "        results[col] = (mse, mae)\n",
    "\n",
    "    return pd.DataFrame(results, index=[\"mse\", \"mae\"]).transpose()\n",
    "\n",
    "\n",
    "results = test_all_columns(oxides)"
   ]
  },
  {
   "cell_type": "code",
   "execution_count": 27,
   "metadata": {},
   "outputs": [
    {
     "data": {
      "text/html": [
       "<div>\n",
       "<style scoped>\n",
       "    .dataframe tbody tr th:only-of-type {\n",
       "        vertical-align: middle;\n",
       "    }\n",
       "\n",
       "    .dataframe tbody tr th {\n",
       "        vertical-align: top;\n",
       "    }\n",
       "\n",
       "    .dataframe thead th {\n",
       "        text-align: right;\n",
       "    }\n",
       "</style>\n",
       "<table border=\"1\" class=\"dataframe\">\n",
       "  <thead>\n",
       "    <tr style=\"text-align: right;\">\n",
       "      <th></th>\n",
       "      <th>mse</th>\n",
       "      <th>mae</th>\n",
       "    </tr>\n",
       "  </thead>\n",
       "  <tbody>\n",
       "    <tr>\n",
       "      <th>0-norm</th>\n",
       "      <td>5.026193</td>\n",
       "      <td>1.805853</td>\n",
       "    </tr>\n",
       "    <tr>\n",
       "      <th>2-norm</th>\n",
       "      <td>5.362413</td>\n",
       "      <td>1.877450</td>\n",
       "    </tr>\n",
       "    <tr>\n",
       "      <th>3-norm</th>\n",
       "      <td>5.349608</td>\n",
       "      <td>1.875609</td>\n",
       "    </tr>\n",
       "    <tr>\n",
       "      <th>5-norm</th>\n",
       "      <td>5.328355</td>\n",
       "      <td>1.871812</td>\n",
       "    </tr>\n",
       "    <tr>\n",
       "      <th>7-norm</th>\n",
       "      <td>5.321798</td>\n",
       "      <td>1.870482</td>\n",
       "    </tr>\n",
       "    <tr>\n",
       "      <th>10-norm</th>\n",
       "      <td>5.318458</td>\n",
       "      <td>1.869645</td>\n",
       "    </tr>\n",
       "    <tr>\n",
       "      <th>MagpieData minimum Number</th>\n",
       "      <td>5.006214</td>\n",
       "      <td>1.808741</td>\n",
       "    </tr>\n",
       "    <tr>\n",
       "      <th>MagpieData maximum Number</th>\n",
       "      <td>4.468318</td>\n",
       "      <td>1.675052</td>\n",
       "    </tr>\n",
       "    <tr>\n",
       "      <th>MagpieData range Number</th>\n",
       "      <td>4.535435</td>\n",
       "      <td>1.690224</td>\n",
       "    </tr>\n",
       "    <tr>\n",
       "      <th>MagpieData mean Number</th>\n",
       "      <td>3.909722</td>\n",
       "      <td>1.565971</td>\n",
       "    </tr>\n",
       "  </tbody>\n",
       "</table>\n",
       "</div>"
      ],
      "text/plain": [
       "                                mse       mae\n",
       "0-norm                     5.026193  1.805853\n",
       "2-norm                     5.362413  1.877450\n",
       "3-norm                     5.349608  1.875609\n",
       "5-norm                     5.328355  1.871812\n",
       "7-norm                     5.321798  1.870482\n",
       "10-norm                    5.318458  1.869645\n",
       "MagpieData minimum Number  5.006214  1.808741\n",
       "MagpieData maximum Number  4.468318  1.675052\n",
       "MagpieData range Number    4.535435  1.690224\n",
       "MagpieData mean Number     3.909722  1.565971"
      ]
     },
     "execution_count": 27,
     "metadata": {},
     "output_type": "execute_result"
    }
   ],
   "source": [
    "results.head(10)"
   ]
  },
  {
   "cell_type": "code",
   "execution_count": 31,
   "metadata": {},
   "outputs": [
    {
     "data": {
      "text/html": [
       "<div>\n",
       "<style scoped>\n",
       "    .dataframe tbody tr th:only-of-type {\n",
       "        vertical-align: middle;\n",
       "    }\n",
       "\n",
       "    .dataframe tbody tr th {\n",
       "        vertical-align: top;\n",
       "    }\n",
       "\n",
       "    .dataframe thead th {\n",
       "        text-align: right;\n",
       "    }\n",
       "</style>\n",
       "<table border=\"1\" class=\"dataframe\">\n",
       "  <thead>\n",
       "    <tr style=\"text-align: right;\">\n",
       "      <th></th>\n",
       "      <th>mse</th>\n",
       "      <th>mae</th>\n",
       "    </tr>\n",
       "  </thead>\n",
       "  <tbody>\n",
       "    <tr>\n",
       "      <th>count</th>\n",
       "      <td>148.000000</td>\n",
       "      <td>148.000000</td>\n",
       "    </tr>\n",
       "    <tr>\n",
       "      <th>mean</th>\n",
       "      <td>5.072540</td>\n",
       "      <td>1.820844</td>\n",
       "    </tr>\n",
       "    <tr>\n",
       "      <th>std</th>\n",
       "      <td>0.426443</td>\n",
       "      <td>0.086427</td>\n",
       "    </tr>\n",
       "    <tr>\n",
       "      <th>min</th>\n",
       "      <td>3.448829</td>\n",
       "      <td>1.503962</td>\n",
       "    </tr>\n",
       "    <tr>\n",
       "      <th>25%</th>\n",
       "      <td>5.011831</td>\n",
       "      <td>1.809031</td>\n",
       "    </tr>\n",
       "    <tr>\n",
       "      <th>50%</th>\n",
       "      <td>5.248761</td>\n",
       "      <td>1.854832</td>\n",
       "    </tr>\n",
       "    <tr>\n",
       "      <th>75%</th>\n",
       "      <td>5.345904</td>\n",
       "      <td>1.876299</td>\n",
       "    </tr>\n",
       "    <tr>\n",
       "      <th>max</th>\n",
       "      <td>5.362443</td>\n",
       "      <td>1.880787</td>\n",
       "    </tr>\n",
       "  </tbody>\n",
       "</table>\n",
       "</div>"
      ],
      "text/plain": [
       "              mse         mae\n",
       "count  148.000000  148.000000\n",
       "mean     5.072540    1.820844\n",
       "std      0.426443    0.086427\n",
       "min      3.448829    1.503962\n",
       "25%      5.011831    1.809031\n",
       "50%      5.248761    1.854832\n",
       "75%      5.345904    1.876299\n",
       "max      5.362443    1.880787"
      ]
     },
     "execution_count": 31,
     "metadata": {},
     "output_type": "execute_result"
    }
   ],
   "source": [
    "results.describe()"
   ]
  },
  {
   "cell_type": "code",
   "execution_count": 34,
   "metadata": {},
   "outputs": [
    {
     "data": {
      "text/html": [
       "<div>\n",
       "<style scoped>\n",
       "    .dataframe tbody tr th:only-of-type {\n",
       "        vertical-align: middle;\n",
       "    }\n",
       "\n",
       "    .dataframe tbody tr th {\n",
       "        vertical-align: top;\n",
       "    }\n",
       "\n",
       "    .dataframe thead th {\n",
       "        text-align: right;\n",
       "    }\n",
       "</style>\n",
       "<table border=\"1\" class=\"dataframe\">\n",
       "  <thead>\n",
       "    <tr style=\"text-align: right;\">\n",
       "      <th></th>\n",
       "      <th>mse</th>\n",
       "      <th>mae</th>\n",
       "    </tr>\n",
       "  </thead>\n",
       "  <tbody>\n",
       "    <tr>\n",
       "      <th>avg d valence electrons</th>\n",
       "      <td>3.529765</td>\n",
       "      <td>1.503962</td>\n",
       "    </tr>\n",
       "    <tr>\n",
       "      <th>MagpieData mean NdValence</th>\n",
       "      <td>3.529765</td>\n",
       "      <td>1.503962</td>\n",
       "    </tr>\n",
       "    <tr>\n",
       "      <th>MagpieData avg_dev NdValence</th>\n",
       "      <td>3.448829</td>\n",
       "      <td>1.509610</td>\n",
       "    </tr>\n",
       "    <tr>\n",
       "      <th>MagpieData mean Number</th>\n",
       "      <td>3.909722</td>\n",
       "      <td>1.565971</td>\n",
       "    </tr>\n",
       "    <tr>\n",
       "      <th>MagpieData mean AtomicWeight</th>\n",
       "      <td>3.970543</td>\n",
       "      <td>1.581403</td>\n",
       "    </tr>\n",
       "    <tr>\n",
       "      <th>...</th>\n",
       "      <td>...</td>\n",
       "      <td>...</td>\n",
       "    </tr>\n",
       "    <tr>\n",
       "      <th>band center</th>\n",
       "      <td>5.361036</td>\n",
       "      <td>1.878888</td>\n",
       "    </tr>\n",
       "    <tr>\n",
       "      <th>MagpieData avg_dev NsUnfilled</th>\n",
       "      <td>5.341272</td>\n",
       "      <td>1.879290</td>\n",
       "    </tr>\n",
       "    <tr>\n",
       "      <th>MagpieData maximum NpValence</th>\n",
       "      <td>5.307360</td>\n",
       "      <td>1.879774</td>\n",
       "    </tr>\n",
       "    <tr>\n",
       "      <th>MagpieData maximum Column</th>\n",
       "      <td>5.307360</td>\n",
       "      <td>1.879774</td>\n",
       "    </tr>\n",
       "    <tr>\n",
       "      <th>MagpieData maximum MendeleevNumber</th>\n",
       "      <td>5.329741</td>\n",
       "      <td>1.880787</td>\n",
       "    </tr>\n",
       "  </tbody>\n",
       "</table>\n",
       "<p>148 rows × 2 columns</p>\n",
       "</div>"
      ],
      "text/plain": [
       "                                         mse       mae\n",
       "avg d valence electrons             3.529765  1.503962\n",
       "MagpieData mean NdValence           3.529765  1.503962\n",
       "MagpieData avg_dev NdValence        3.448829  1.509610\n",
       "MagpieData mean Number              3.909722  1.565971\n",
       "MagpieData mean AtomicWeight        3.970543  1.581403\n",
       "...                                      ...       ...\n",
       "band center                         5.361036  1.878888\n",
       "MagpieData avg_dev NsUnfilled       5.341272  1.879290\n",
       "MagpieData maximum NpValence        5.307360  1.879774\n",
       "MagpieData maximum Column           5.307360  1.879774\n",
       "MagpieData maximum MendeleevNumber  5.329741  1.880787\n",
       "\n",
       "[148 rows x 2 columns]"
      ]
     },
     "execution_count": 34,
     "metadata": {},
     "output_type": "execute_result"
    }
   ],
   "source": [
    "results.sort_values(by=\"mae\", ascending=True)"
   ]
  },
  {
   "cell_type": "markdown",
   "metadata": {},
   "source": [
    "## Multivariate regression\n",
    "\n",
    "In a multivariate regression, the input rank $M>1$. Therefore, we will choose a few descriptor to form $x$. Here we choose three descriptors ($M=3$):"
   ]
  },
  {
   "cell_type": "code",
   "execution_count": 35,
   "metadata": {
    "tags": []
   },
   "outputs": [],
   "source": [
    "# read X\n",
    "X = oxides[['MagpieData avg_dev CovalentRadius', \n",
    "            'MagpieData avg_dev Electronegativity', \n",
    "            'MagpieData maximum NsValence']].values"
   ]
  },
  {
   "cell_type": "markdown",
   "metadata": {},
   "source": [
    "And the rest is the same as univariate regression:"
   ]
  },
  {
   "cell_type": "code",
   "execution_count": 36,
   "metadata": {
    "tags": []
   },
   "outputs": [
    {
     "name": "stdout",
     "output_type": "stream",
     "text": [
      "MSE = 4.706353\n",
      "MAE = 1.740838\n"
     ]
    },
    {
     "data": {
      "image/png": "[encoded data removed]",
      "text/plain": [
       "<Figure size 640x480 with 1 Axes>"
      ]
     },
     "metadata": {},
     "output_type": "display_data"
    }
   ],
   "source": [
    "# fit linear regression model\n",
    "model = LinearRegression().fit(X, y)\n",
    "\n",
    "# make predictions\n",
    "y_pred = model.predict(X)\n",
    "\n",
    "# compute some fitting error\n",
    "print('MSE = %f' % metrics.mean_squared_error(y, y_pred))\n",
    "print('MAE = %f' % metrics.mean_absolute_error(y, y_pred))\n",
    "\n",
    "# plot the original and predicted data against each other\n",
    "plot_predicted_vs_true(y, y_pred)"
   ]
  },
  {
   "cell_type": "markdown",
   "metadata": {},
   "source": [
    "## Exercise \n",
    "\n",
    "By changeing the features in the $X$ values above try a number of different feature combinations. How does it affect the quality of fitting? Report the feature and the MAE and MSE scores in the table below. *Note* to edit the contets of this cell, simply double click on the cell.\n",
    "\n",
    "| Feature | MAE (eV) | MSE (eV) |\n",
    "|---------|----------|----------|\n",
    "|         |          |          |\n",
    "|         |          |          |\n",
    "|         |          |          |\n",
    "|         |          |          |"
   ]
  },
  {
   "cell_type": "markdown",
   "metadata": {},
   "source": [
    "---"
   ]
  },
  {
   "cell_type": "markdown",
   "metadata": {},
   "source": [
    "# Gradient Boosting Regression\n",
    "\n",
    "Gradient boosting is a method for building an ensemble of weak learners to constitute a single strong learner. We build a series of decision trees, each subsequent tree taking in information about the residuals (errors) from the previous trees. In principle, the fitting should improve each time a new tree is added. "
   ]
  },
  {
   "cell_type": "markdown",
   "metadata": {},
   "source": [
    "## 1. Create the regressor\n",
    "\n",
    "In `sklearn`, a gradient boosting regressor is created by\n",
    "\n",
    "```python\n",
    "GradientBoostingRegressor(loss=<str>, max_depth=<int>, learning_rate=<float>,\n",
    "                          min_samples_split=<int>, min_samples_leaf=<int>, \n",
    "                          max_features=<int>, subsample=<float>, n_estimators=<int>)\n",
    "```\n",
    "\n",
    "\n",
    "The hyperparameters we need to set include:\n",
    "\n",
    "* `loss`: a loss function to be minimised. We will use 'squared_error', which is basically MSE.\n",
    "* `max_depth`: the maximum depth limits the number of nodes in the trees; its best value depends on the interaction of the input variables; we will start with 10 and can tune it later.\n",
    "* `learning_rate`: learning rate shrinks the contribution of each tree; there is a trade-off between learning rate and boosting steps; we will start with 0.015 and can tune it later.\n",
    "* `min_samples_split`: the minimum number of samples required to split an internal node; we will start with 50 and can tune it later.\n",
    "* `min_samples_leaf`: the minimum number of samples required to be at a leaf node; we set this as 1.\n",
    "* `max_features`: the number of features to consider when looking for the best split; we will use the number of features in the data.\n",
    "* `subsample`: the fraction of samples to be used for fitting the individual trees; if smaller than 1.0, this results in Stochastic Gradient Boosting. we will start with 0.9 and can tune it later.\n",
    "* `n_estimators`: the number of boosting steps or decision trees; we will start with 300 and can tune it later.\n",
    "\n",
    "**NOTE**: Simply adding more trees can lead to overfitting. Gradient boosting is quite robust against overfitting, but we will have to look out for this."
   ]
  },
  {
   "cell_type": "code",
   "execution_count": 37,
   "metadata": {
    "tags": []
   },
   "outputs": [],
   "source": [
    "# create the regressor\n",
    "gbr = GradientBoostingRegressor(loss='squared_error', max_depth=10, learning_rate=0.015,\n",
    "                                min_samples_split=50, min_samples_leaf=1, \n",
    "                                max_features=len(oxides.columns)-1, subsample=0.9, \n",
    "                                n_estimators=300)"
   ]
  },
  {
   "cell_type": "markdown",
   "metadata": {},
   "source": [
    "## 2. Fit the regressor\n",
    "\n",
    "Here we combine all the descriptors to form $x$ and fit the model:"
   ]
  },
  {
   "cell_type": "code",
   "execution_count": 38,
   "metadata": {
    "tags": []
   },
   "outputs": [
    {
     "name": "stdout",
     "output_type": "stream",
     "text": [
      "Shape of X: (749, 148)\n"
     ]
    },
    {
     "data": {
      "text/html": [
       "<style>#sk-container-id-1 {\n",
       "  /* Definition of color scheme common for light and dark mode */\n",
       "  --sklearn-color-text: black;\n",
       "  --sklearn-color-line: gray;\n",
       "  /* Definition of color scheme for unfitted estimators */\n",
       "  --sklearn-color-unfitted-level-0: #fff5e6;\n",
       "  --sklearn-color-unfitted-level-1: #f6e4d2;\n",
       "  --sklearn-color-unfitted-level-2: #ffe0b3;\n",
       "  --sklearn-color-unfitted-level-3: chocolate;\n",
       "  /* Definition of color scheme for fitted estimators */\n",
       "  --sklearn-color-fitted-level-0: #f0f8ff;\n",
       "  --sklearn-color-fitted-level-1: #d4ebff;\n",
       "  --sklearn-color-fitted-level-2: #b3dbfd;\n",
       "  --sklearn-color-fitted-level-3: cornflowerblue;\n",
       "\n",
       "  /* Specific color for light theme */\n",
       "  --sklearn-color-text-on-default-background: var(--sg-text-color, var(--theme-code-foreground, var(--jp-content-font-color1, black)));\n",
       "  --sklearn-color-background: var(--sg-background-color, var(--theme-background, var(--jp-layout-color0, white)));\n",
       "  --sklearn-color-border-box: var(--sg-text-color, var(--theme-code-foreground, var(--jp-content-font-color1, black)));\n",
       "  --sklearn-color-icon: #696969;\n",
       "\n",
       "  @media (prefers-color-scheme: dark) {\n",
       "    /* Redefinition of color scheme for dark theme */\n",
       "    --sklearn-color-text-on-default-background: var(--sg-text-color, var(--theme-code-foreground, var(--jp-content-font-color1, white)));\n",
       "    --sklearn-color-background: var(--sg-background-color, var(--theme-background, var(--jp-layout-color0, #111)));\n",
       "    --sklearn-color-border-box: var(--sg-text-color, var(--theme-code-foreground, var(--jp-content-font-color1, white)));\n",
       "    --sklearn-color-icon: #878787;\n",
       "  }\n",
       "}\n",
       "\n",
       "#sk-container-id-1 {\n",
       "  color: var(--sklearn-color-text);\n",
       "}\n",
       "\n",
       "#sk-container-id-1 pre {\n",
       "  padding: 0;\n",
       "}\n",
       "\n",
       "#sk-container-id-1 input.sk-hidden--visually {\n",
       "  border: 0;\n",
       "  clip: rect(1px 1px 1px 1px);\n",
       "  clip: rect(1px, 1px, 1px, 1px);\n",
       "  height: 1px;\n",
       "  margin: -1px;\n",
       "  overflow: hidden;\n",
       "  padding: 0;\n",
       "  position: absolute;\n",
       "  width: 1px;\n",
       "}\n",
       "\n",
       "#sk-container-id-1 div.sk-dashed-wrapped {\n",
       "  border: 1px dashed var(--sklearn-color-line);\n",
       "  margin: 0 0.4em 0.5em 0.4em;\n",
       "  box-sizing: border-box;\n",
       "  padding-bottom: 0.4em;\n",
       "  background-color: var(--sklearn-color-background);\n",
       "}\n",
       "\n",
       "#sk-container-id-1 div.sk-container {\n",
       "  /* jupyter's `normalize.less` sets `[hidden] { display: none; }`\n",
       "     but bootstrap.min.css set `[hidden] { display: none !important; }`\n",
       "     so we also need the `!important` here to be able to override the\n",
       "     default hidden behavior on the sphinx rendered scikit-learn.org.\n",
       "     See: https://github.com/scikit-learn/scikit-learn/issues/21755 */\n",
       "  display: inline-block !important;\n",
       "  position: relative;\n",
       "}\n",
       "\n",
       "#sk-container-id-1 div.sk-text-repr-fallback {\n",
       "  display: none;\n",
       "}\n",
       "\n",
       "div.sk-parallel-item,\n",
       "div.sk-serial,\n",
       "div.sk-item {\n",
       "  /* draw centered vertical line to link estimators */\n",
       "  background-image: linear-gradient(var(--sklearn-color-text-on-default-background), var(--sklearn-color-text-on-default-background));\n",
       "  background-size: 2px 100%;\n",
       "  background-repeat: no-repeat;\n",
       "  background-position: center center;\n",
       "}\n",
       "\n",
       "/* Parallel-specific style estimator block */\n",
       "\n",
       "#sk-container-id-1 div.sk-parallel-item::after {\n",
       "  content: \"\";\n",
       "  width: 100%;\n",
       "  border-bottom: 2px solid var(--sklearn-color-text-on-default-background);\n",
       "  flex-grow: 1;\n",
       "}\n",
       "\n",
       "#sk-container-id-1 div.sk-parallel {\n",
       "  display: flex;\n",
       "  align-items: stretch;\n",
       "  justify-content: center;\n",
       "  background-color: var(--sklearn-color-background);\n",
       "  position: relative;\n",
       "}\n",
       "\n",
       "#sk-container-id-1 div.sk-parallel-item {\n",
       "  display: flex;\n",
       "  flex-direction: column;\n",
       "}\n",
       "\n",
       "#sk-container-id-1 div.sk-parallel-item:first-child::after {\n",
       "  align-self: flex-end;\n",
       "  width: 50%;\n",
       "}\n",
       "\n",
       "#sk-container-id-1 div.sk-parallel-item:last-child::after {\n",
       "  align-self: flex-start;\n",
       "  width: 50%;\n",
       "}\n",
       "\n",
       "#sk-container-id-1 div.sk-parallel-item:only-child::after {\n",
       "  width: 0;\n",
       "}\n",
       "\n",
       "/* Serial-specific style estimator block */\n",
       "\n",
       "#sk-container-id-1 div.sk-serial {\n",
       "  display: flex;\n",
       "  flex-direction: column;\n",
       "  align-items: center;\n",
       "  background-color: var(--sklearn-color-background);\n",
       "  padding-right: 1em;\n",
       "  padding-left: 1em;\n",
       "}\n",
       "\n",
       "\n",
       "/* Toggleable style: style used for estimator/Pipeline/ColumnTransformer box that is\n",
       "clickable and can be expanded/collapsed.\n",
       "- Pipeline and ColumnTransformer use this feature and define the default style\n",
       "- Estimators will overwrite some part of the style using the `sk-estimator` class\n",
       "*/\n",
       "\n",
       "/* Pipeline and ColumnTransformer style (default) */\n",
       "\n",
       "#sk-container-id-1 div.sk-toggleable {\n",
       "  /* Default theme specific background. It is overwritten whether we have a\n",
       "  specific estimator or a Pipeline/ColumnTransformer */\n",
       "  background-color: var(--sklearn-color-background);\n",
       "}\n",
       "\n",
       "/* Toggleable label */\n",
       "#sk-container-id-1 label.sk-toggleable__label {\n",
       "  cursor: pointer;\n",
       "  display: block;\n",
       "  width: 100%;\n",
       "  margin-bottom: 0;\n",
       "  padding: 0.5em;\n",
       "  box-sizing: border-box;\n",
       "  text-align: center;\n",
       "}\n",
       "\n",
       "#sk-container-id-1 label.sk-toggleable__label-arrow:before {\n",
       "  /* Arrow on the left of the label */\n",
       "  content: \"▸\";\n",
       "  float: left;\n",
       "  margin-right: 0.25em;\n",
       "  color: var(--sklearn-color-icon);\n",
       "}\n",
       "\n",
       "#sk-container-id-1 label.sk-toggleable__label-arrow:hover:before {\n",
       "  color: var(--sklearn-color-text);\n",
       "}\n",
       "\n",
       "/* Toggleable content - dropdown */\n",
       "\n",
       "#sk-container-id-1 div.sk-toggleable__content {\n",
       "  max-height: 0;\n",
       "  max-width: 0;\n",
       "  overflow: hidden;\n",
       "  text-align: left;\n",
       "  /* unfitted */\n",
       "  background-color: var(--sklearn-color-unfitted-level-0);\n",
       "}\n",
       "\n",
       "#sk-container-id-1 div.sk-toggleable__content.fitted {\n",
       "  /* fitted */\n",
       "  background-color: var(--sklearn-color-fitted-level-0);\n",
       "}\n",
       "\n",
       "#sk-container-id-1 div.sk-toggleable__content pre {\n",
       "  margin: 0.2em;\n",
       "  border-radius: 0.25em;\n",
       "  color: var(--sklearn-color-text);\n",
       "  /* unfitted */\n",
       "  background-color: var(--sklearn-color-unfitted-level-0);\n",
       "}\n",
       "\n",
       "#sk-container-id-1 div.sk-toggleable__content.fitted pre {\n",
       "  /* unfitted */\n",
       "  background-color: var(--sklearn-color-fitted-level-0);\n",
       "}\n",
       "\n",
       "#sk-container-id-1 input.sk-toggleable__control:checked~div.sk-toggleable__content {\n",
       "  /* Expand drop-down */\n",
       "  max-height: 200px;\n",
       "  max-width: 100%;\n",
       "  overflow: auto;\n",
       "}\n",
       "\n",
       "#sk-container-id-1 input.sk-toggleable__control:checked~label.sk-toggleable__label-arrow:before {\n",
       "  content: \"▾\";\n",
       "}\n",
       "\n",
       "/* Pipeline/ColumnTransformer-specific style */\n",
       "\n",
       "#sk-container-id-1 div.sk-label input.sk-toggleable__control:checked~label.sk-toggleable__label {\n",
       "  color: var(--sklearn-color-text);\n",
       "  background-color: var(--sklearn-color-unfitted-level-2);\n",
       "}\n",
       "\n",
       "#sk-container-id-1 div.sk-label.fitted input.sk-toggleable__control:checked~label.sk-toggleable__label {\n",
       "  background-color: var(--sklearn-color-fitted-level-2);\n",
       "}\n",
       "\n",
       "/* Estimator-specific style */\n",
       "\n",
       "/* Colorize estimator box */\n",
       "#sk-container-id-1 div.sk-estimator input.sk-toggleable__control:checked~label.sk-toggleable__label {\n",
       "  /* unfitted */\n",
       "  background-color: var(--sklearn-color-unfitted-level-2);\n",
       "}\n",
       "\n",
       "#sk-container-id-1 div.sk-estimator.fitted input.sk-toggleable__control:checked~label.sk-toggleable__label {\n",
       "  /* fitted */\n",
       "  background-color: var(--sklearn-color-fitted-level-2);\n",
       "}\n",
       "\n",
       "#sk-container-id-1 div.sk-label label.sk-toggleable__label,\n",
       "#sk-container-id-1 div.sk-label label {\n",
       "  /* The background is the default theme color */\n",
       "  color: var(--sklearn-color-text-on-default-background);\n",
       "}\n",
       "\n",
       "/* On hover, darken the color of the background */\n",
       "#sk-container-id-1 div.sk-label:hover label.sk-toggleable__label {\n",
       "  color: var(--sklearn-color-text);\n",
       "  background-color: var(--sklearn-color-unfitted-level-2);\n",
       "}\n",
       "\n",
       "/* Label box, darken color on hover, fitted */\n",
       "#sk-container-id-1 div.sk-label.fitted:hover label.sk-toggleable__label.fitted {\n",
       "  color: var(--sklearn-color-text);\n",
       "  background-color: var(--sklearn-color-fitted-level-2);\n",
       "}\n",
       "\n",
       "/* Estimator label */\n",
       "\n",
       "#sk-container-id-1 div.sk-label label {\n",
       "  font-family: monospace;\n",
       "  font-weight: bold;\n",
       "  display: inline-block;\n",
       "  line-height: 1.2em;\n",
       "}\n",
       "\n",
       "#sk-container-id-1 div.sk-label-container {\n",
       "  text-align: center;\n",
       "}\n",
       "\n",
       "/* Estimator-specific */\n",
       "#sk-container-id-1 div.sk-estimator {\n",
       "  font-family: monospace;\n",
       "  border: 1px dotted var(--sklearn-color-border-box);\n",
       "  border-radius: 0.25em;\n",
       "  box-sizing: border-box;\n",
       "  margin-bottom: 0.5em;\n",
       "  /* unfitted */\n",
       "  background-color: var(--sklearn-color-unfitted-level-0);\n",
       "}\n",
       "\n",
       "#sk-container-id-1 div.sk-estimator.fitted {\n",
       "  /* fitted */\n",
       "  background-color: var(--sklearn-color-fitted-level-0);\n",
       "}\n",
       "\n",
       "/* on hover */\n",
       "#sk-container-id-1 div.sk-estimator:hover {\n",
       "  /* unfitted */\n",
       "  background-color: var(--sklearn-color-unfitted-level-2);\n",
       "}\n",
       "\n",
       "#sk-container-id-1 div.sk-estimator.fitted:hover {\n",
       "  /* fitted */\n",
       "  background-color: var(--sklearn-color-fitted-level-2);\n",
       "}\n",
       "\n",
       "/* Specification for estimator info (e.g. \"i\" and \"?\") */\n",
       "\n",
       "/* Common style for \"i\" and \"?\" */\n",
       "\n",
       ".sk-estimator-doc-link,\n",
       "a:link.sk-estimator-doc-link,\n",
       "a:visited.sk-estimator-doc-link {\n",
       "  float: right;\n",
       "  font-size: smaller;\n",
       "  line-height: 1em;\n",
       "  font-family: monospace;\n",
       "  background-color: var(--sklearn-color-background);\n",
       "  border-radius: 1em;\n",
       "  height: 1em;\n",
       "  width: 1em;\n",
       "  text-decoration: none !important;\n",
       "  margin-left: 1ex;\n",
       "  /* unfitted */\n",
       "  border: var(--sklearn-color-unfitted-level-1) 1pt solid;\n",
       "  color: var(--sklearn-color-unfitted-level-1);\n",
       "}\n",
       "\n",
       ".sk-estimator-doc-link.fitted,\n",
       "a:link.sk-estimator-doc-link.fitted,\n",
       "a:visited.sk-estimator-doc-link.fitted {\n",
       "  /* fitted */\n",
       "  border: var(--sklearn-color-fitted-level-1) 1pt solid;\n",
       "  color: var(--sklearn-color-fitted-level-1);\n",
       "}\n",
       "\n",
       "/* On hover */\n",
       "div.sk-estimator:hover .sk-estimator-doc-link:hover,\n",
       ".sk-estimator-doc-link:hover,\n",
       "div.sk-label-container:hover .sk-estimator-doc-link:hover,\n",
       ".sk-estimator-doc-link:hover {\n",
       "  /* unfitted */\n",
       "  background-color: var(--sklearn-color-unfitted-level-3);\n",
       "  color: var(--sklearn-color-background);\n",
       "  text-decoration: none;\n",
       "}\n",
       "\n",
       "div.sk-estimator.fitted:hover .sk-estimator-doc-link.fitted:hover,\n",
       ".sk-estimator-doc-link.fitted:hover,\n",
       "div.sk-label-container:hover .sk-estimator-doc-link.fitted:hover,\n",
       ".sk-estimator-doc-link.fitted:hover {\n",
       "  /* fitted */\n",
       "  background-color: var(--sklearn-color-fitted-level-3);\n",
       "  color: var(--sklearn-color-background);\n",
       "  text-decoration: none;\n",
       "}\n",
       "\n",
       "/* Span, style for the box shown on hovering the info icon */\n",
       ".sk-estimator-doc-link span {\n",
       "  display: none;\n",
       "  z-index: 9999;\n",
       "  position: relative;\n",
       "  font-weight: normal;\n",
       "  right: .2ex;\n",
       "  padding: .5ex;\n",
       "  margin: .5ex;\n",
       "  width: min-content;\n",
       "  min-width: 20ex;\n",
       "  max-width: 50ex;\n",
       "  color: var(--sklearn-color-text);\n",
       "  box-shadow: 2pt 2pt 4pt #999;\n",
       "  /* unfitted */\n",
       "  background: var(--sklearn-color-unfitted-level-0);\n",
       "  border: .5pt solid var(--sklearn-color-unfitted-level-3);\n",
       "}\n",
       "\n",
       ".sk-estimator-doc-link.fitted span {\n",
       "  /* fitted */\n",
       "  background: var(--sklearn-color-fitted-level-0);\n",
       "  border: var(--sklearn-color-fitted-level-3);\n",
       "}\n",
       "\n",
       ".sk-estimator-doc-link:hover span {\n",
       "  display: block;\n",
       "}\n",
       "\n",
       "/* \"?\"-specific style due to the `<a>` HTML tag */\n",
       "\n",
       "#sk-container-id-1 a.estimator_doc_link {\n",
       "  float: right;\n",
       "  font-size: 1rem;\n",
       "  line-height: 1em;\n",
       "  font-family: monospace;\n",
       "  background-color: var(--sklearn-color-background);\n",
       "  border-radius: 1rem;\n",
       "  height: 1rem;\n",
       "  width: 1rem;\n",
       "  text-decoration: none;\n",
       "  /* unfitted */\n",
       "  color: var(--sklearn-color-unfitted-level-1);\n",
       "  border: var(--sklearn-color-unfitted-level-1) 1pt solid;\n",
       "}\n",
       "\n",
       "#sk-container-id-1 a.estimator_doc_link.fitted {\n",
       "  /* fitted */\n",
       "  border: var(--sklearn-color-fitted-level-1) 1pt solid;\n",
       "  color: var(--sklearn-color-fitted-level-1);\n",
       "}\n",
       "\n",
       "/* On hover */\n",
       "#sk-container-id-1 a.estimator_doc_link:hover {\n",
       "  /* unfitted */\n",
       "  background-color: var(--sklearn-color-unfitted-level-3);\n",
       "  color: var(--sklearn-color-background);\n",
       "  text-decoration: none;\n",
       "}\n",
       "\n",
       "#sk-container-id-1 a.estimator_doc_link.fitted:hover {\n",
       "  /* fitted */\n",
       "  background-color: var(--sklearn-color-fitted-level-3);\n",
       "}\n",
       "</style><div id=\"sk-container-id-1\" class=\"sk-top-container\"><div class=\"sk-text-repr-fallback\"><pre>GradientBoostingRegressor(learning_rate=0.015, max_depth=10, max_features=148,\n",
       "                          min_samples_split=50, n_estimators=300,\n",
       "                          subsample=0.9)</pre><b>In a Jupyter environment, please rerun this cell to show the HTML representation or trust the notebook. <br />On GitHub, the HTML representation is unable to render, please try loading this page with nbviewer.org.</b></div><div class=\"sk-container\" hidden><div class=\"sk-item\"><div class=\"sk-estimator fitted sk-toggleable\"><input class=\"sk-toggleable__control sk-hidden--visually\" id=\"sk-estimator-id-1\" type=\"checkbox\" checked><label for=\"sk-estimator-id-1\" class=\"sk-toggleable__label fitted sk-toggleable__label-arrow fitted\">&nbsp;&nbsp;GradientBoostingRegressor<a class=\"sk-estimator-doc-link fitted\" rel=\"noreferrer\" target=\"_blank\" href=\"https://scikit-learn.org/1.4/modules/generated/sklearn.ensemble.GradientBoostingRegressor.html\">?<span>Documentation for GradientBoostingRegressor</span></a><span class=\"sk-estimator-doc-link fitted\">i<span>Fitted</span></span></label><div class=\"sk-toggleable__content fitted\"><pre>GradientBoostingRegressor(learning_rate=0.015, max_depth=10, max_features=148,\n",
       "                          min_samples_split=50, n_estimators=300,\n",
       "                          subsample=0.9)</pre></div> </div></div></div></div>"
      ],
      "text/plain": [
       "GradientBoostingRegressor(learning_rate=0.015, max_depth=10, max_features=148,\n",
       "                          min_samples_split=50, n_estimators=300,\n",
       "                          subsample=0.9)"
      ]
     },
     "execution_count": 38,
     "metadata": {},
     "output_type": "execute_result"
    }
   ],
   "source": [
    "# combine all the columns into X\n",
    "cols = [a for a in list(oxides.columns) if a not in ['gllbsc_gap']]\n",
    "X = oxides[cols].values\n",
    "print('Shape of X: %s' % str(X.shape))\n",
    "\n",
    "# fit the model\n",
    "gbr.fit(X, y)"
   ]
  },
  {
   "cell_type": "markdown",
   "metadata": {},
   "source": [
    "After fitting the model, we can make predictions and plot them against the original data. The fit has shown a significant improvement over linear regression. "
   ]
  },
  {
   "cell_type": "code",
   "execution_count": 39,
   "metadata": {
    "tags": []
   },
   "outputs": [
    {
     "data": {
      "image/png": "[encoded data removed]",
      "text/plain": [
       "<Figure size 640x480 with 1 Axes>"
      ]
     },
     "metadata": {},
     "output_type": "display_data"
    }
   ],
   "source": [
    "# make predictions\n",
    "y_pred = gbr.predict(X)\n",
    "\n",
    "# plot the original and predicted data against each other\n",
    "plot_predicted_vs_true(y, y_pred)"
   ]
  },
  {
   "cell_type": "markdown",
   "metadata": {},
   "source": [
    "## 3. Cross validation\n",
    "\n",
    "Cross-validation (CV) allows us to evaluate the out-of-sample goodness-of-fit of the regressor without sparing a validation set. In the basic approach, as called the k-fold CV, the training set is split into $k$ subsets, each serving as the validation set to evaluate the model trained with the other $k-1$ subsets. This approach can be computationally expensive but does not waste too much data (as is the case when fixing an arbitrary validation set), which is a major advantage for problems with limited data. Note that a lower CV score means better goodness of fit.\n",
    "\n",
    "In the following cell, we compute the scores using 5 folds (so 20% of data for each validation) and the negative MAE as the metric:"
   ]
  },
  {
   "cell_type": "code",
   "execution_count": 40,
   "metadata": {
    "tags": []
   },
   "outputs": [
    {
     "name": "stdout",
     "output_type": "stream",
     "text": [
      "Cross validation score: 0.860305001202122\n"
     ]
    }
   ],
   "source": [
    "# compute cross validation score\n",
    "scores = cross_val_score(gbr, X, y, cv=5, scoring='neg_mean_absolute_error')\n",
    "print('Cross validation score: {}'.format(-1 * np.mean(scores)))"
   ]
  },
  {
   "cell_type": "markdown",
   "metadata": {},
   "source": [
    "## 4. Boosting rate and overfitting\n",
    "\n",
    "Let us split the dataset 80:20 into training and test sets. Re-fit the model using the training set only. We can then use some built-in methods of `GradientBoostingRegressor` to get training and test scores at each iteration of boosting. This way, we can check if we have insufficient boosting layers or perhaps we have too many and thus suffer overfitting.\n"
   ]
  },
  {
   "cell_type": "code",
   "execution_count": 44,
   "metadata": {},
   "outputs": [
    {
     "data": {
      "text/plain": [
       "['__abstractmethods__',\n",
       " '__annotations__',\n",
       " '__class__',\n",
       " '__delattr__',\n",
       " '__dict__',\n",
       " '__dir__',\n",
       " '__doc__',\n",
       " '__eq__',\n",
       " '__format__',\n",
       " '__ge__',\n",
       " '__getattribute__',\n",
       " '__getitem__',\n",
       " '__getstate__',\n",
       " '__gt__',\n",
       " '__hash__',\n",
       " '__init__',\n",
       " '__init_subclass__',\n",
       " '__iter__',\n",
       " '__le__',\n",
       " '__len__',\n",
       " '__lt__',\n",
       " '__module__',\n",
       " '__ne__',\n",
       " '__new__',\n",
       " '__reduce__',\n",
       " '__reduce_ex__',\n",
       " '__repr__',\n",
       " '__setattr__',\n",
       " '__setstate__',\n",
       " '__sizeof__',\n",
       " '__sklearn_clone__',\n",
       " '__str__',\n",
       " '__subclasshook__',\n",
       " '__weakref__',\n",
       " '_abc_impl',\n",
       " '_build_request_for_signature',\n",
       " '_check_feature_names',\n",
       " '_check_initialized',\n",
       " '_check_n_features',\n",
       " '_clear_state',\n",
       " '_compute_partial_dependence_recursion',\n",
       " '_doc_link_module',\n",
       " '_doc_link_template',\n",
       " '_doc_link_url_param_generator',\n",
       " '_encode_y',\n",
       " '_estimator_type',\n",
       " '_fit_stage',\n",
       " '_fit_stages',\n",
       " '_get_default_requests',\n",
       " '_get_doc_link',\n",
       " '_get_loss',\n",
       " '_get_metadata_request',\n",
       " '_get_param_names',\n",
       " '_get_tags',\n",
       " '_init_state',\n",
       " '_is_fitted',\n",
       " '_loss',\n",
       " '_make_estimator',\n",
       " '_more_tags',\n",
       " '_parameter_constraints',\n",
       " '_raw_predict',\n",
       " '_raw_predict_init',\n",
       " '_repr_html_',\n",
       " '_repr_html_inner',\n",
       " '_repr_mimebundle_',\n",
       " '_required_parameters',\n",
       " '_resize_state',\n",
       " '_rng',\n",
       " '_set_max_features',\n",
       " '_staged_raw_predict',\n",
       " '_validate_data',\n",
       " '_validate_estimator',\n",
       " '_validate_params',\n",
       " 'alpha',\n",
       " 'apply',\n",
       " 'ccp_alpha',\n",
       " 'criterion',\n",
       " 'estimators_',\n",
       " 'feature_importances_',\n",
       " 'fit',\n",
       " 'get_metadata_routing',\n",
       " 'get_params',\n",
       " 'init',\n",
       " 'init_',\n",
       " 'learning_rate',\n",
       " 'loss',\n",
       " 'max_depth',\n",
       " 'max_features',\n",
       " 'max_features_',\n",
       " 'max_leaf_nodes',\n",
       " 'min_impurity_decrease',\n",
       " 'min_samples_leaf',\n",
       " 'min_samples_split',\n",
       " 'min_weight_fraction_leaf',\n",
       " 'n_estimators',\n",
       " 'n_estimators_',\n",
       " 'n_features_in_',\n",
       " 'n_iter_no_change',\n",
       " 'n_trees_per_iteration_',\n",
       " 'oob_improvement_',\n",
       " 'oob_score_',\n",
       " 'oob_scores_',\n",
       " 'predict',\n",
       " 'random_state',\n",
       " 'score',\n",
       " 'set_fit_request',\n",
       " 'set_params',\n",
       " 'set_score_request',\n",
       " 'staged_predict',\n",
       " 'subsample',\n",
       " 'tol',\n",
       " 'train_score_',\n",
       " 'validation_fraction',\n",
       " 'verbose',\n",
       " 'warm_start']"
      ]
     },
     "execution_count": 44,
     "metadata": {},
     "output_type": "execute_result"
    }
   ],
   "source": [
    "dir(gbr)"
   ]
  },
  {
   "cell_type": "code",
   "execution_count": 45,
   "metadata": {
    "tags": []
   },
   "outputs": [
    {
     "ename": "AttributeError",
     "evalue": "'GradientBoostingRegressor' object has no attribute 'loss_'",
     "output_type": "error",
     "traceback": [
      "\u001b[0;31m---------------------------------------------------------------------------\u001b[0m",
      "\u001b[0;31mAttributeError\u001b[0m                            Traceback (most recent call last)",
      "Cell \u001b[0;32mIn[45], line 10\u001b[0m\n\u001b[1;32m      8\u001b[0m test_score \u001b[38;5;241m=\u001b[39m np\u001b[38;5;241m.\u001b[39mzeros((\u001b[38;5;241m300\u001b[39m,), dtype\u001b[38;5;241m=\u001b[39mnp\u001b[38;5;241m.\u001b[39mfloat64)\n\u001b[1;32m      9\u001b[0m \u001b[38;5;28;01mfor\u001b[39;00m i, y_pred \u001b[38;5;129;01min\u001b[39;00m \u001b[38;5;28menumerate\u001b[39m(gbr\u001b[38;5;241m.\u001b[39mstaged_predict(X_test)):\n\u001b[0;32m---> 10\u001b[0m     test_score[i] \u001b[38;5;241m=\u001b[39m \u001b[43mgbr\u001b[49m\u001b[38;5;241;43m.\u001b[39;49m\u001b[43mloss_\u001b[49m(y_test, y_pred)\n\u001b[1;32m     12\u001b[0m \u001b[38;5;66;03m# plot the scores\u001b[39;00m\n\u001b[1;32m     13\u001b[0m plot_loss_scores(gbr\u001b[38;5;241m.\u001b[39mtrain_score_, test_score)\n",
      "\u001b[0;31mAttributeError\u001b[0m: 'GradientBoostingRegressor' object has no attribute 'loss_'"
     ]
    }
   ],
   "source": [
    "# split the dataset\n",
    "X_train, X_test, y_train, y_test = train_test_split(X, y, test_size=0.2)\n",
    "\n",
    "# fit with training set\n",
    "gbr.fit(X_train, y_train)\n",
    "\n",
    "# compute test score at each boosting step\n",
    "test_score = np.zeros((300,), dtype=np.float64)\n",
    "for i, y_pred in enumerate(gbr.staged_predict(X_test)):\n",
    "    test_score[i] = gbr.loss_(y_test, y_pred)\n",
    "\n",
    "# plot the scores\n",
    "plot_loss_scores(gbr.train_score_, test_score)"
   ]
  },
  {
   "cell_type": "markdown",
   "metadata": {},
   "source": [
    "Notice that the loss of both training and test are still decreasing at 300 steps. We can try to increase the boosting steps to 500 and see if we can still get improvements. If the test score stops increasing, we are probably in a good place to stop extending the model. "
   ]
  },
  {
   "cell_type": "code",
   "execution_count": null,
   "metadata": {
    "tags": []
   },
   "outputs": [],
   "source": [
    "# create the regressor with more boosting steps\n",
    "gbr500 = GradientBoostingRegressor(loss='squared_error', max_depth=10, learning_rate=0.015,\n",
    "                                   min_samples_split=50, min_samples_leaf=1, \n",
    "                                   max_features=len(oxides.columns)-1, subsample=0.9, \n",
    "                                   n_estimators=500)\n",
    "\n",
    "# fit with training set\n",
    "gbr500.fit(X_train, y_train)\n",
    "\n",
    "# compute test score at each boosting step\n",
    "test_score = np.zeros((500,), dtype=np.float64)\n",
    "for i, y_pred in enumerate(gbr500.staged_predict(X_test)):\n",
    "    test_score[i] = gbr500.loss_(y_test, y_pred)\n",
    "\n",
    "# plot the scores\n",
    "plot_loss_scores(gbr500.train_score_, test_score)"
   ]
  },
  {
   "cell_type": "markdown",
   "metadata": {},
   "source": [
    "Again, do a 5-fold cross validation at this point. How does the score compare to the earlier one?"
   ]
  },
  {
   "cell_type": "code",
   "execution_count": null,
   "metadata": {
    "tags": []
   },
   "outputs": [],
   "source": [
    "# compute cross validation score\n",
    "scores = cross_val_score(gbr500, X, y, cv=5, scoring='neg_mean_absolute_error')\n",
    "print('Cross validation score: {}'.format(-1 * np.mean(scores)))"
   ]
  },
  {
   "cell_type": "markdown",
   "metadata": {},
   "source": [
    "##  5. Systematic hyperparameter tuning\n",
    "\n",
    "Hand tuning a large number of hyperparameters is laborious. Luckily, `sklearn` provides a function [`GridSearchCV`](https://scikit-learn.org/stable/modules/generated/sklearn.model_selection.GridSearchCV.html) to automate searches in the hyperparameter space. Even though, performing a grid-search of all of the hyperparameters at once would again lead to a combinatorial explosion. A general strategy for tuning hyperparameters in gradient boosted trees has been suggested [here](https://www.analyticsvidhya.com/blog/2016/02/complete-guide-parameter-tuning-gradient-boosting-gbm-python/). \n",
    "\n",
    "1. Choose a relatively high learning rate. Generally the default value of 0.1 works but somewhere between 0.05 to 0.2 should work for different problems.\n",
    "2. Determine the optimum number of trees for this learning rate. This should range around 40 to 90. Remember to choose a value on which your system can work fairly fast. This is because it will be used for testing various scenarios and determining the tree parameters.\n",
    "3. Tune tree-specific parameters for decided learning rate and number of trees. \n",
    "4. Lower the learning rate and increase the estimators proportionally to get more robust models.\n",
    "\n",
    "We will follow the above process to tune our regressor.\n",
    "\n",
    "\n",
    "### Step 1 & 2: Optimise `n_estimators` with `learning_rate=0.1`"
   ]
  },
  {
   "cell_type": "code",
   "execution_count": null,
   "metadata": {
    "tags": []
   },
   "outputs": [],
   "source": [
    "# candidates\n",
    "param_test_n_est = {'n_estimators': range(40, 90, 10)}\n",
    "\n",
    "# create the regressor\n",
    "gbr_n_est = GradientBoostingRegressor(loss='squared_error', learning_rate=0.1, \n",
    "                                      max_features=len(cols), max_depth=10,\n",
    "                                      min_samples_split=50, subsample=0.9,\n",
    "                                      random_state=0)\n",
    "\n",
    "# define hyperparameter search\n",
    "gsearch = GridSearchCV(estimator= gbr_n_est, param_grid = param_test_n_est, \n",
    "                       scoring='neg_median_absolute_error', cv=5)\n",
    "\n",
    "# perform search\n",
    "gsearch.fit(X, y)"
   ]
  },
  {
   "cell_type": "code",
   "execution_count": null,
   "metadata": {
    "tags": []
   },
   "outputs": [],
   "source": [
    "# print best n_estimators\n",
    "gsearch.best_params_"
   ]
  },
  {
   "cell_type": "markdown",
   "metadata": {},
   "source": [
    "### Step 3: Optimise tree parameters with best `n_estimators`\n",
    "\n",
    "Here we consider `max_depth` and `min_samples_split`:"
   ]
  },
  {
   "cell_type": "code",
   "execution_count": null,
   "metadata": {
    "tags": []
   },
   "outputs": [],
   "source": [
    "# candidates\n",
    "param_test_tree = {'max_depth': range(5, 16, 2), \n",
    "                   'min_samples_split': range(10, 100, 20)}\n",
    "\n",
    "# create the regressor\n",
    "gbr_tree = GradientBoostingRegressor(loss='squared_error', learning_rate=0.1, \n",
    "                                     max_features=len(cols), subsample=0.9,\n",
    "                                     n_estimators=70, random_state=0)\n",
    "\n",
    "# define hyperparameter search\n",
    "gsearch = GridSearchCV(estimator= gbr_tree, param_grid = param_test_tree, \n",
    "                       scoring='neg_median_absolute_error', cv=5)\n",
    "\n",
    "# perform search\n",
    "gsearch.fit(X, y)"
   ]
  },
  {
   "cell_type": "code",
   "execution_count": null,
   "metadata": {
    "tags": []
   },
   "outputs": [],
   "source": [
    "# print best max_depth and min_samples_split\n",
    "gsearch.best_params_"
   ]
  },
  {
   "cell_type": "markdown",
   "metadata": {},
   "source": [
    "### Step 4: Lower `learning_rate` and increase `n_estimators`\n",
    "\n",
    "Here we use a factor of 5, so `learning_rate` is lowered to 0.02 and `n_estimators` increased to 350:"
   ]
  },
  {
   "cell_type": "code",
   "execution_count": null,
   "metadata": {
    "tags": []
   },
   "outputs": [],
   "source": [
    "# create the \"optimised\" regressor\n",
    "gbr_opt = GradientBoostingRegressor(loss='squared_error', learning_rate=0.02, \n",
    "                                    max_features=len(cols), max_depth=7,\n",
    "                                    min_samples_split=10, subsample=0.9,\n",
    "                                    n_estimators=350, random_state=0)\n",
    "\n",
    "# fit the model\n",
    "gbr_opt.fit(X, y)"
   ]
  },
  {
   "cell_type": "markdown",
   "metadata": {},
   "source": [
    "Eventually, we can use our \"optimised\" model to make predictions and compute CV scores:"
   ]
  },
  {
   "cell_type": "code",
   "execution_count": null,
   "metadata": {
    "tags": []
   },
   "outputs": [],
   "source": [
    "# make predictions\n",
    "y_pred = gbr_opt.predict(X)\n",
    "\n",
    "# plot the original and predicted data against each other\n",
    "plot_predicted_vs_true(y_pred, y)\n",
    "\n",
    "# compute cross validation score\n",
    "scores = cross_val_score(gbr_opt, X, y, cv=5, scoring='neg_mean_absolute_error')\n",
    "print(f'Cross validation score: {-1 * np.mean(scores)}')"
   ]
  },
  {
   "cell_type": "markdown",
   "metadata": {},
   "source": [
    "**Yes, our efforts pay off**, as shown by the figure and the CV score!"
   ]
  },
  {
   "cell_type": "markdown",
   "metadata": {},
   "source": [
    "---"
   ]
  },
  {
   "cell_type": "markdown",
   "metadata": {},
   "source": [
    "## Exercises \n",
    "\n",
    "Similar to [classification_decision_tree.ipynb](classification_decision_tree.ipynb), use regression trees to fit one or some of the standard \"toy\" datasets embedded in `sklearn`, such as `diabetes`. These datasets are less challenging than our example."
   ]
  },
  {
   "cell_type": "code",
   "execution_count": null,
   "metadata": {
    "tags": []
   },
   "outputs": [],
   "source": [
    "# load iris dataset\n",
    "boston = sklearn.datasets.load_diabetes()\n",
    "print(boston['DESCR'])"
   ]
  },
  {
   "cell_type": "code",
   "execution_count": null,
   "metadata": {},
   "outputs": [],
   "source": []
  }
 ],
 "metadata": {
  "kernelspec": {
   "display_name": "Python 3 + Jaspy",
   "language": "python",
   "name": "jaspy"
  },
  "language_info": {
   "codemirror_mode": {
    "name": "ipython",
    "version": 3
   },
   "file_extension": ".py",
   "mimetype": "text/x-python",
   "name": "python",
   "nbconvert_exporter": "python",
   "pygments_lexer": "ipython3",
   "version": "3.11.9"
  }
 },
 "nbformat": 4,
 "nbformat_minor": 4
}
